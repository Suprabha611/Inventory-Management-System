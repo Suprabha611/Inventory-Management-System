{
  "nbformat": 4,
  "nbformat_minor": 0,
  "metadata": {
    "colab": {
      "name": "Iventory_Management_Assignment.ipynb",
      "provenance": [],
      "collapsed_sections": []
    },
    "kernelspec": {
      "name": "python3",
      "display_name": "Python 3"
    },
    "language_info": {
      "name": "python"
    }
  },
  "cells": [
    {
      "cell_type": "code",
      "metadata": {
        "id": "bWhk31DbUkcx"
      },
      "source": [
        "record= {101 : {\"Name\": \"Fivestar\", \"Price\": 10, \"Quantity\" : 100,\"Company\" : \"Cadbury\", \"Best Before\" : \"5 months\"},\n",
        "        102 : {\"Name\": \"Eclairs\",  \"Price\": 1, \"Quantity\" : 500, \"Company\" : \"Cadbury\", \"Best Before\" : \"5 months\"},\n",
        "        103: {\"Name\": \"Diary Milk\", \"Price\": 20, \"Quantity\" : 200, \"Company\" : \"Cadbury\", \"Best Before\" : \"5 months\"},\n",
        "        104: {\"Name\": \"Bounty\", \"Price\": 50, \"Quantity\" : 100,  \"Company\" : \"PNG\", \"Best Before\" : \"5 months\"},\n",
        "        105: {\"Name\": \"Kinder Joy\" , \"Price\": 30, \"Quantity\" : 25 , \"Company\" : \"Ferrero\", \"Best Before\" : \"5 months\"},\n",
        "        106: {\"Name\": \"Oreo\", \"Price\": 10, \"Quantity\" : 50, \"Company\" : \"ITC\",\"Best Before\" : \"5 months\"},\n",
        "        107: {\"Name\": \"Dark Fantasy\", \"Price\": 30, \"Quantity\" : 20, \"Company\" : \"ITC\",\"Best Before\" : \"5 months\"},\n",
        "        108: {\"Name\": \"Hide and Seek\" , \"Price\": 10, \"Quantity\" : 20, \"Company\" : \"ITC\",\"Best Before\" : \"5 months\"},\n",
        "        109: {\"Name\": \"Gooday\", \"Price\": 10, \"Quantity\" : 20, \"Company\" : \"ITC\",\"Best Before\" : \"5 months\"},\n",
        "        110: {\"Name\": \"Parle G\", \"Price\": 5, \"Quantity\" : 20, \"Company\" : \"ITC\",\"Best Before\" : \"5 months\"},\n",
        "        111 : {\"Name\": \"Red velvet\" , \"Price\": 40, \"Quantity\" : 1, \"Company\" : \"Pillsbury\",\"Best Before\" : \"5 months\"},\n",
        "        112 : {\"Name\": \"Lavacake\", \"Price\": 35, \"Quantity\" : 1, \"Company\" : \"Pillsbury\",\"Best Before\" : \"NA\"},\n",
        "        113: {\"Name\": \"Death by Chocolate\" , \"Price\": 45, \"Quantity\" : 1, \"Company\" : \"Pillsbury\", \"Best Before\" : \"NA\"},\n",
        "        114: {\"Name\": \"butterscotch\", \"Price\": 40, \"Quantity\" : 1, \"Company\" : \"Pillsbury\",\"Best Before\" : \"NA\"},\n",
        "        115: {\"Name\": \"chocolatecake\", \"Price\": 35, \"Quantity\" : 1, \"Company\" : \"Pillsbury\", \"Best Before\" : \"NA\"},\n",
        "        116: {\"Name\": \"Lays\", \"Price\": 10, \"Quantity\" : 20, \"Company\" : \"ITC\", \"Best Before\" : \"1 month\"},\n",
        "        117: {\"Name\": \"kurkure\", \"Price\": 10, \"Quantity\" : 20, \"Company\" : \"ITC\", \"Best Before\" : \"1 month\"},\n",
        "        118: {\"Name\": \"bingo\", \"Price\": 10, \"Quantity\" : 20, \"Company\" : \"ITC\", \"Best Before\" : \"1 month\"},\n",
        "        119: {\"Name\": \"moongdhal\"   , \"Price\": 10, \"Quantity\" : 20, \"Company\" : \"ITC\", \"Best Before\" : \"1 month\"},\n",
        "        120: {\"Name\": \"littlehearts\", \"Price\": 5, \"Quantity\" : 15, \"Company\" : \"ITC\", \"Best Before\" : \"1 month\"},\n",
        "        121 : {\"Name\": \"TooYum\" , \"Price\": 10, \"Quantity\" : 15, \"Company\" : \"ITC\", \"Best Before\" : \"1 month\"},\n",
        "        122 : {\"Name\": \"Samosa\", \"Price\": 10, \"Quantity\" : 10, \"Company\" : \"Pillsbury\", \"Best Before\" : \"NA\"},\n",
        "        123: {\"Name\": \"maggie\", \"Price\": 10, \"Quantity\" : 10, \"Company\" : \"Nestle\",  \"Best Before\" : \"1 month\"},\n",
        "        124: {\"Name\": \"eggpuff\", \"Price\": 15, \"Quantity\" : 10, \"Company\" : \"Pillsbury\", \"Best Before\" : \"NA\"},\n",
        "        125: {\"Name\": \"vegpuff\", \"Price\": 12, \"Quantity\" : 10, \"Company\" : \"Pillsbury\", \"Best Before\" : \"NA\"},\n",
        "        126: {\"Name\": \"bread\", \"Price\": 25, \"Quantity\" : 5, \"Company\" : \"Pillsbury\", \"Best Before\" : \"NA\"},\n",
        "        127: {\"Name\": \"sandwich\", \"Price\": 35, \"Quantity\" : 15, \"Company\" : \"Pillsbury\", \"Best Before\" : \"NA\"},\n",
        "        128: {\"Name\": \"icecream\", \"Price\": 50, \"Quantity\" : 50, \"Company\" : \"Amul\", \"Best Before\" : \"NA\"},\n",
        "        129: {\"Name\": \"juice\", \"Price\": 30, \"Quantity\" : 10, \"Company\" : \"Frootie\", \"Best Before\" : \"NA\"},\n",
        "        130: {\"Name\": \"Buns\", \"Price\": 20, \"Quantity\" : 10, \"Company\" : \"Pillsbury\", \"Best Before\" : \"NA\"}}\n",
        "    "
      ],
      "execution_count": null,
      "outputs": []
    },
    {
      "cell_type": "code",
      "metadata": {
        "id": "07IW5Mpwbyzp",
        "colab": {
          "base_uri": "https://localhost:8080/",
          "height": 137
        },
        "outputId": "6abb43df-cee6-4944-c5e3-8f39d6fc2991"
      },
      "source": [
        "import json\n",
        "\n",
        "js = json.dumps(record)\n",
        "\n",
        "js"
      ],
      "execution_count": null,
      "outputs": [
        {
          "output_type": "execute_result",
          "data": {
            "application/vnd.google.colaboratory.intrinsic+json": {
              "type": "string"
            },
            "text/plain": [
              "'{\"101\": {\"Name\": \"Fivestar\", \"Price\": 10, \"Quantity\": 100, \"Company\": \"Cadbury\", \"Best Before\": \"5 months\"}, \"102\": {\"Name\": \"Eclairs\", \"Price\": 1, \"Quantity\": 500, \"Company\": \"Cadbury\", \"Best Before\": \"5 months\"}, \"103\": {\"Name\": \"Diary Milk\", \"Price\": 20, \"Quantity\": 200, \"Company\": \"Cadbury\", \"Best Before\": \"5 months\"}, \"104\": {\"Name\": \"Bounty\", \"Price\": 50, \"Quantity\": 100, \"Company\": \"PNG\", \"Best Before\": \"5 months\"}, \"105\": {\"Name\": \"Kinder Joy\", \"Price\": 30, \"Quantity\": 25, \"Company\": \"Ferrero\", \"Best Before\": \"5 months\"}, \"106\": {\"Name\": \"Oreo\", \"Price\": 10, \"Quantity\": 50, \"Company\": \"ITC\", \"Best Before\": \"5 months\"}, \"107\": {\"Name\": \"Dark Fantasy\", \"Price\": 30, \"Quantity\": 20, \"Company\": \"ITC\", \"Best Before\": \"5 months\"}, \"108\": {\"Name\": \"Hide and Seek\", \"Price\": 10, \"Quantity\": 20, \"Company\": \"ITC\", \"Best Before\": \"5 months\"}, \"109\": {\"Name\": \"Gooday\", \"Price\": 10, \"Quantity\": 20, \"Company\": \"ITC\", \"Best Before\": \"5 months\"}, \"110\": {\"Name\": \"Parle G\", \"Price\": 5, \"Quantity\": 20, \"Company\": \"ITC\", \"Best Before\": \"5 months\"}, \"111\": {\"Name\": \"Red velvet\", \"Price\": 40, \"Quantity\": 1, \"Company\": \"Pillsbury\", \"Best Before\": \"5 months\"}, \"112\": {\"Name\": \"Lavacake\", \"Price\": 35, \"Quantity\": 1, \"Company\": \"Pillsbury\", \"Best Before\": \"NA\"}, \"113\": {\"Name\": \"Death by Chocolate\", \"Price\": 45, \"Quantity\": 1, \"Company\": \"Pillsbury\", \"Best Before\": \"NA\"}, \"114\": {\"Name\": \"butterscotch\", \"Price\": 40, \"Quantity\": 1, \"Company\": \"Pillsbury\", \"Best Before\": \"NA\"}, \"115\": {\"Name\": \"chocolatecake\", \"Price\": 35, \"Quantity\": 1, \"Company\": \"Pillsbury\", \"Best Before\": \"NA\"}, \"116\": {\"Name\": \"Lays\", \"Price\": 10, \"Quantity\": 20, \"Company\": \"ITC\", \"Best Before\": \"1 month\"}, \"117\": {\"Name\": \"kurkure\", \"Price\": 10, \"Quantity\": 20, \"Company\": \"ITC\", \"Best Before\": \"1 month\"}, \"118\": {\"Name\": \"bingo\", \"Price\": 10, \"Quantity\": 20, \"Company\": \"ITC\", \"Best Before\": \"1 month\"}, \"119\": {\"Name\": \"moongdhal\", \"Price\": 10, \"Quantity\": 20, \"Company\": \"ITC\", \"Best Before\": \"1 month\"}, \"120\": {\"Name\": \"littlehearts\", \"Price\": 5, \"Quantity\": 15, \"Company\": \"ITC\", \"Best Before\": \"1 month\"}, \"121\": {\"Name\": \"TooYum\", \"Price\": 10, \"Quantity\": 15, \"Company\": \"ITC\", \"Best Before\": \"1 month\"}, \"122\": {\"Name\": \"Samosa\", \"Price\": 10, \"Quantity\": 10, \"Company\": \"Pillsbury\", \"Best Before\": \"NA\"}, \"123\": {\"Name\": \"maggie\", \"Price\": 10, \"Quantity\": 10, \"Company\": \"Nestle\", \"Best Before\": \"1 month\"}, \"124\": {\"Name\": \"eggpuff\", \"Price\": 15, \"Quantity\": 10, \"Company\": \"Pillsbury\", \"Best Before\": \"NA\"}, \"125\": {\"Name\": \"vegpuff\", \"Price\": 12, \"Quantity\": 10, \"Company\": \"Pillsbury\", \"Best Before\": \"NA\"}, \"126\": {\"Name\": \"bread\", \"Price\": 25, \"Quantity\": 5, \"Company\": \"Pillsbury\", \"Best Before\": \"NA\"}, \"127\": {\"Name\": \"sandwich\", \"Price\": 35, \"Quantity\": 15, \"Company\": \"Pillsbury\", \"Best Before\": \"NA\"}, \"128\": {\"Name\": \"icecream\", \"Price\": 50, \"Quantity\": 50, \"Company\": \"Amul\", \"Best Before\": \"NA\"}, \"129\": {\"Name\": \"juice\", \"Price\": 30, \"Quantity\": 10, \"Company\": \"Frootie\", \"Best Before\": \"NA\"}, \"130\": {\"Name\": \"Buns\", \"Price\": 20, \"Quantity\": 10, \"Company\": \"Pillsbury\", \"Best Before\": \"NA\"}}'"
            ]
          },
          "metadata": {},
          "execution_count": 31
        }
      ]
    },
    {
      "cell_type": "code",
      "metadata": {
        "id": "T7q__LYob3xS"
      },
      "source": [
        "fd = open(\"record.json\",'w')\n",
        "\n",
        "fd.write(js)\n",
        "\n",
        "fd.close()"
      ],
      "execution_count": null,
      "outputs": []
    },
    {
      "cell_type": "code",
      "metadata": {
        "id": "0t7-4UctdsXB"
      },
      "source": [
        "while True:\n",
        "  s=input(\"enter the product id=\")\n",
        "  q=int(input(\"enter quantity=\"))\n",
        "\n",
        "  if s in record.keys():\n",
        "    print(\"total amount=\",q*record[s][\"Price\"])\n",
        "\n",
        "    record[s][\"Quantity\"]-=q\n",
        "\n",
        "  else:\n",
        "    print(\"Item not found\")"
      ],
      "execution_count": null,
      "outputs": []
    },
    {
      "cell_type": "code",
      "metadata": {
        "id": "kFkz-F78eO8P"
      },
      "source": [
        "import json\n",
        "\n",
        "js = json.dumps(record)\n",
        "\n",
        "js\n",
        "\n",
        "fd = open(\"sales.json\",'w')\n",
        "\n",
        "fd.write(js)\n",
        "\n",
        "fd.close()"
      ],
      "execution_count": null,
      "outputs": []
    }
  ]
}